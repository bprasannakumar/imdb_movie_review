{
 "cells": [
  {
   "cell_type": "code",
   "execution_count": 1,
   "metadata": {},
   "outputs": [],
   "source": [
    "import numpy as np\n",
    "import pandas as pd\n",
    "import matplotlib.pyplot as plt"
   ]
  },
  {
   "cell_type": "code",
   "execution_count": 2,
   "metadata": {},
   "outputs": [],
   "source": [
    "import tensorflow as tf\n",
    "from tensorflow import keras\n",
    "from tensorflow.keras.preprocessing.text import Tokenizer\n",
    "from tensorflow.keras.preprocessing.sequence import pad_sequences"
   ]
  },
  {
   "cell_type": "code",
   "execution_count": 3,
   "metadata": {},
   "outputs": [],
   "source": [
    "import os\n",
    "import glob"
   ]
  },
  {
   "cell_type": "code",
   "execution_count": 4,
   "metadata": {},
   "outputs": [],
   "source": [
    "# Note: IMDB movie review dataset can be downloaded from http://ai.stanford.edu/~amaas/data/sentiment"
   ]
  },
  {
   "cell_type": "code",
   "execution_count": 5,
   "metadata": {},
   "outputs": [],
   "source": [
    "#load data\n",
    "train_path_pos = r'E:\\AllPrograms\\Datasets\\aclImdb\\train\\pos'\n",
    "train_path_neg = r'E:\\AllPrograms\\Datasets\\aclImdb\\train\\neg' \n",
    "test_path_pos = r'E:\\AllPrograms\\Datasets\\aclImdb\\test\\pos'\n",
    "test_path_neg = r'E:\\AllPrograms\\Datasets\\aclImdb\\test\\neg' "
   ]
  },
  {
   "cell_type": "code",
   "execution_count": 6,
   "metadata": {},
   "outputs": [],
   "source": [
    "def read_data(file_name):\n",
    "    with open(file=file_name, mode='r', encoding='utf-8') as file_reader:\n",
    "        return file_reader.read()"
   ]
  },
  {
   "cell_type": "code",
   "execution_count": 7,
   "metadata": {},
   "outputs": [],
   "source": [
    "def get_reivews_and_labels(pos_path, neg_path):\n",
    "    reviews = []\n",
    "    labels = []\n",
    "    pos_file_names = glob.glob(os.path.join(pos_path, '*.txt'))\n",
    "    neg_file_names = glob.glob(os.path.join(neg_path, '*.txt'))\n",
    "    for pos_file_name in pos_file_names:\n",
    "        text = read_data(pos_file_name)\n",
    "        reviews.append(text)\n",
    "        labels.append(1)\n",
    "    for neg_file_name in neg_file_names:\n",
    "        text = read_data(neg_file_name)\n",
    "        reviews.append(text)\n",
    "        labels.append(0)\n",
    "    return reviews, labels    "
   ]
  },
  {
   "cell_type": "code",
   "execution_count": 8,
   "metadata": {},
   "outputs": [],
   "source": [
    "X_train, y_train = get_reivews_and_labels(train_path_pos, train_path_neg)\n",
    "X_test, y_test = get_reivews_and_labels(test_path_pos, test_path_neg)"
   ]
  },
  {
   "cell_type": "code",
   "execution_count": 9,
   "metadata": {},
   "outputs": [
    {
     "name": "stdout",
     "output_type": "stream",
     "text": [
      "0\n"
     ]
    }
   ],
   "source": [
    "print(y_train[24000])"
   ]
  },
  {
   "cell_type": "code",
   "execution_count": 10,
   "metadata": {},
   "outputs": [],
   "source": [
    "#define constants\n",
    "VOCAB_SIZE = 25000\n",
    "EMBEDDING_DIM = 16\n",
    "MAX_LENGTH = 100\n",
    "TRUNC_TYPE_POST = 'pre'\n",
    "OOV_TOKEN = \"<OOV>\""
   ]
  },
  {
   "cell_type": "code",
   "execution_count": 11,
   "metadata": {},
   "outputs": [],
   "source": [
    "#instantiate tokenizer and tokenize\n",
    "tokenizer = Tokenizer(num_words=VOCAB_SIZE)"
   ]
  },
  {
   "cell_type": "code",
   "execution_count": 12,
   "metadata": {},
   "outputs": [],
   "source": [
    "tokenizer.fit_on_texts(X_train)\n",
    "word_index = tokenizer.word_index "
   ]
  },
  {
   "cell_type": "code",
   "execution_count": 13,
   "metadata": {},
   "outputs": [],
   "source": [
    "#word_index"
   ]
  },
  {
   "cell_type": "code",
   "execution_count": 14,
   "metadata": {},
   "outputs": [],
   "source": [
    "#convert train text to sequences and perform padding\n",
    "train_sequences = tokenizer.texts_to_sequences(X_train)\n",
    "train_padded_sequences = pad_sequences(sequences=train_sequences, maxlen=MAX_LENGTH, truncating=TRUNC_TYPE_POST)"
   ]
  },
  {
   "cell_type": "code",
   "execution_count": 15,
   "metadata": {},
   "outputs": [
    {
     "name": "stdout",
     "output_type": "stream",
     "text": [
      "[21905, 309, 6, 3, 1069, 209, 9, 2161, 30, 1, 169, 55, 14, 46, 82, 5844, 41, 392, 110, 138, 14, 5340, 58, 4449, 150, 8, 1, 4988, 5924, 482, 69, 5, 261, 12, 21905, 2002, 6, 73, 2425, 5, 632, 71, 6, 5340, 1, 5, 2003, 10307, 1, 5925, 1534, 34, 67, 64, 205, 140, 65, 1230, 20598, 1, 4, 1, 223, 901, 29, 3022, 69, 4, 1, 5845, 10, 693, 2, 65, 1534, 51, 10, 216, 1, 387, 8, 60, 3, 1467, 3712, 800, 5, 3513, 177, 1, 392, 10, 1237, 13886, 30, 309, 3, 353, 344, 2974, 143, 130, 5, 7799, 28, 4, 126, 5340, 1467, 2373, 5, 21905, 309, 10, 532, 12, 108, 1468, 4, 58, 555, 101, 12, 21905, 309, 6, 227, 4174, 48, 3, 2232, 12, 9, 215]\n"
     ]
    }
   ],
   "source": [
    "print(train_sequences[0])"
   ]
  },
  {
   "cell_type": "code",
   "execution_count": 16,
   "metadata": {},
   "outputs": [
    {
     "name": "stdout",
     "output_type": "stream",
     "text": [
      "[21905  2002     6    73  2425     5   632    71     6  5340     1     5\n",
      "  2003 10307     1  5925  1534    34    67    64   205   140    65  1230\n",
      " 20598     1     4     1   223   901    29  3022    69     4     1  5845\n",
      "    10   693     2    65  1534    51    10   216     1   387     8    60\n",
      "     3  1467  3712   800     5  3513   177     1   392    10  1237 13886\n",
      "    30   309     3   353   344  2974   143   130     5  7799    28     4\n",
      "   126  5340  1467  2373     5 21905   309    10   532    12   108  1468\n",
      "     4    58   555   101    12 21905   309     6   227  4174    48     3\n",
      "  2232    12     9   215]\n"
     ]
    }
   ],
   "source": [
    "print(train_padded_sequences[0])"
   ]
  },
  {
   "cell_type": "code",
   "execution_count": 17,
   "metadata": {},
   "outputs": [],
   "source": [
    "#convert test text to sequences and perform padding\n",
    "test_sequences = tokenizer.texts_to_sequences(X_test)\n",
    "test_padded_sequences = pad_sequences(sequences=test_sequences, maxlen=MAX_LENGTH, truncating=TRUNC_TYPE_POST)"
   ]
  },
  {
   "cell_type": "code",
   "execution_count": 18,
   "metadata": {},
   "outputs": [],
   "source": [
    "# convert lables into numpy format\n",
    "y_train = np.array(y_train)\n",
    "y_test = np.array(y_test)"
   ]
  },
  {
   "cell_type": "code",
   "execution_count": 19,
   "metadata": {},
   "outputs": [],
   "source": [
    "# create model\n",
    "def get_model():\n",
    "    model = tf.keras.models.Sequential([\n",
    "        tf.keras.layers.Embedding(input_dim=VOCAB_SIZE, output_dim=EMBEDDING_DIM, input_length=MAX_LENGTH),\n",
    "        tf.keras.layers.LSTM(64),\n",
    "        tf.keras.layers.Dense(64, activation='relu'),\n",
    "        tf.keras.layers.Dropout(0.2),\n",
    "        tf.keras.layers.Dense(32, activation='relu'),\n",
    "        tf.keras.layers.Dropout(0.2),\n",
    "        tf.keras.layers.Dense(8, activation='relu'),\n",
    "        tf.keras.layers.Dense(1, activation='sigmoid')\n",
    "    ])\n",
    "    model.compile( optimizer='rmsprop', loss='binary_crossentropy', metrics=['accuracy'])\n",
    "    return model"
   ]
  },
  {
   "cell_type": "code",
   "execution_count": 20,
   "metadata": {},
   "outputs": [
    {
     "name": "stdout",
     "output_type": "stream",
     "text": [
      "Train on 25000 samples, validate on 25000 samples\n",
      "Epoch 1/50\n",
      "25000/25000 [==============================] - 56s 2ms/sample - loss: 0.4490 - accuracy: 0.7890 - val_loss: 0.3631 - val_accuracy: 0.8467\n",
      "Epoch 2/50\n",
      "25000/25000 [==============================] - 58s 2ms/sample - loss: 0.2876 - accuracy: 0.8846 - val_loss: 0.3326 - val_accuracy: 0.8564\n",
      "Epoch 3/50\n",
      "25000/25000 [==============================] - 60s 2ms/sample - loss: 0.2469 - accuracy: 0.9022 - val_loss: 0.4411 - val_accuracy: 0.8457\n",
      "Epoch 4/50\n",
      "25000/25000 [==============================] - 56s 2ms/sample - loss: 0.2224 - accuracy: 0.9162 - val_loss: 0.3931 - val_accuracy: 0.8562\n",
      "Epoch 5/50\n",
      "25000/25000 [==============================] - 57s 2ms/sample - loss: 0.2007 - accuracy: 0.9245 - val_loss: 0.3641 - val_accuracy: 0.8514\n",
      "Epoch 6/50\n",
      "25000/25000 [==============================] - 55s 2ms/sample - loss: 0.1803 - accuracy: 0.9342 - val_loss: 0.3648 - val_accuracy: 0.8457\n",
      "Epoch 7/50\n",
      "25000/25000 [==============================] - 57s 2ms/sample - loss: 0.1655 - accuracy: 0.9393 - val_loss: 0.4414 - val_accuracy: 0.8412\n",
      "Epoch 8/50\n",
      "25000/25000 [==============================] - 55s 2ms/sample - loss: 0.1495 - accuracy: 0.9472 - val_loss: 0.4019 - val_accuracy: 0.8429\n",
      "Epoch 9/50\n",
      "25000/25000 [==============================] - 56s 2ms/sample - loss: 0.1358 - accuracy: 0.9519 - val_loss: 0.4011 - val_accuracy: 0.8423\n",
      "Epoch 10/50\n",
      "25000/25000 [==============================] - 56s 2ms/sample - loss: 0.1216 - accuracy: 0.9582 - val_loss: 0.5500 - val_accuracy: 0.8218\n",
      "Epoch 11/50\n",
      "25000/25000 [==============================] - 57s 2ms/sample - loss: 0.1070 - accuracy: 0.9638 - val_loss: 0.5284 - val_accuracy: 0.8356\n",
      "Epoch 12/50\n",
      "25000/25000 [==============================] - 58s 2ms/sample - loss: 0.0948 - accuracy: 0.9684 - val_loss: 0.5177 - val_accuracy: 0.8293\n",
      "Epoch 13/50\n",
      "25000/25000 [==============================] - 60s 2ms/sample - loss: 0.0819 - accuracy: 0.9731 - val_loss: 0.5477 - val_accuracy: 0.8301\n",
      "Epoch 14/50\n",
      "25000/25000 [==============================] - 59s 2ms/sample - loss: 0.0713 - accuracy: 0.9756 - val_loss: 0.5898 - val_accuracy: 0.8177\n",
      "Epoch 15/50\n",
      "25000/25000 [==============================] - 56s 2ms/sample - loss: 0.0591 - accuracy: 0.9805 - val_loss: 0.6580 - val_accuracy: 0.8176\n",
      "Epoch 16/50\n",
      "25000/25000 [==============================] - 56s 2ms/sample - loss: 0.0475 - accuracy: 0.9848 - val_loss: 0.7041 - val_accuracy: 0.8131\n",
      "Epoch 17/50\n",
      "25000/25000 [==============================] - 55s 2ms/sample - loss: 0.0417 - accuracy: 0.9879 - val_loss: 0.7920 - val_accuracy: 0.8171\n",
      "Epoch 18/50\n",
      "25000/25000 [==============================] - 56s 2ms/sample - loss: 0.0296 - accuracy: 0.9910 - val_loss: 1.1547 - val_accuracy: 0.8134\n",
      "Epoch 19/50\n",
      "25000/25000 [==============================] - 57s 2ms/sample - loss: 0.0252 - accuracy: 0.9921 - val_loss: 1.3627 - val_accuracy: 0.8014\n",
      "Epoch 20/50\n",
      "25000/25000 [==============================] - 57s 2ms/sample - loss: 0.0216 - accuracy: 0.9944 - val_loss: 1.2948 - val_accuracy: 0.8042\n",
      "Epoch 21/50\n",
      "25000/25000 [==============================] - 56s 2ms/sample - loss: 0.0155 - accuracy: 0.9959 - val_loss: 1.6946 - val_accuracy: 0.7949\n",
      "Epoch 22/50\n",
      "25000/25000 [==============================] - 56s 2ms/sample - loss: 0.0114 - accuracy: 0.9970 - val_loss: 1.8772 - val_accuracy: 0.7974\n",
      "Epoch 23/50\n",
      "25000/25000 [==============================] - 58s 2ms/sample - loss: 0.0092 - accuracy: 0.9980 - val_loss: 2.3395 - val_accuracy: 0.7967\n",
      "Epoch 24/50\n",
      "25000/25000 [==============================] - 59s 2ms/sample - loss: 0.0077 - accuracy: 0.9984 - val_loss: 2.8765 - val_accuracy: 0.8036\n",
      "Epoch 25/50\n",
      "25000/25000 [==============================] - 57s 2ms/sample - loss: 0.0057 - accuracy: 0.9990 - val_loss: 2.9682 - val_accuracy: 0.7984\n",
      "Epoch 26/50\n",
      "25000/25000 [==============================] - 57s 2ms/sample - loss: 0.0050 - accuracy: 0.9992 - val_loss: 3.9802 - val_accuracy: 0.7983\n",
      "Epoch 27/50\n",
      "25000/25000 [==============================] - 58s 2ms/sample - loss: 0.0084 - accuracy: 0.9990 - val_loss: 3.0601 - val_accuracy: 0.8001\n",
      "Epoch 28/50\n",
      "25000/25000 [==============================] - 56s 2ms/sample - loss: 0.0059 - accuracy: 0.9992 - val_loss: 3.5707 - val_accuracy: 0.8009\n",
      "Epoch 29/50\n",
      "25000/25000 [==============================] - 57s 2ms/sample - loss: 0.0077 - accuracy: 0.9990 - val_loss: 3.3001 - val_accuracy: 0.8050\n",
      "Epoch 30/50\n",
      "25000/25000 [==============================] - 58s 2ms/sample - loss: 0.0031 - accuracy: 0.9994 - val_loss: 3.8624 - val_accuracy: 0.8043\n",
      "Epoch 31/50\n",
      "25000/25000 [==============================] - 56s 2ms/sample - loss: 0.0025 - accuracy: 0.9997 - val_loss: 4.6320 - val_accuracy: 0.7950\n",
      "Epoch 32/50\n",
      "25000/25000 [==============================] - 56s 2ms/sample - loss: 0.0043 - accuracy: 0.9995 - val_loss: 4.8057 - val_accuracy: 0.7981\n",
      "Epoch 33/50\n",
      "25000/25000 [==============================] - 58s 2ms/sample - loss: 0.0051 - accuracy: 0.9993 - val_loss: 4.5628 - val_accuracy: 0.7896\n",
      "Epoch 34/50\n",
      "25000/25000 [==============================] - 59s 2ms/sample - loss: 0.0020 - accuracy: 0.9997 - val_loss: 5.2665 - val_accuracy: 0.8044\n",
      "Epoch 35/50\n",
      "25000/25000 [==============================] - 60s 2ms/sample - loss: 0.0053 - accuracy: 0.9994 - val_loss: 4.7689 - val_accuracy: 0.8010\n",
      "Epoch 36/50\n",
      "25000/25000 [==============================] - 59s 2ms/sample - loss: 0.0025 - accuracy: 0.9996 - val_loss: 5.3570 - val_accuracy: 0.8127\n",
      "Epoch 37/50\n",
      "25000/25000 [==============================] - 59s 2ms/sample - loss: 0.0013 - accuracy: 0.9998 - val_loss: 5.5666 - val_accuracy: 0.8139\n",
      "Epoch 38/50\n",
      "25000/25000 [==============================] - 58s 2ms/sample - loss: 0.0026 - accuracy: 0.9996 - val_loss: 5.3273 - val_accuracy: 0.7983\n",
      "Epoch 39/50\n",
      "25000/25000 [==============================] - 59s 2ms/sample - loss: 0.0035 - accuracy: 0.9995 - val_loss: 5.6323 - val_accuracy: 0.8005\n",
      "Epoch 40/50\n",
      "25000/25000 [==============================] - 60s 2ms/sample - loss: 0.0023 - accuracy: 0.9997 - val_loss: 5.4547 - val_accuracy: 0.7999\n",
      "Epoch 41/50\n",
      "25000/25000 [==============================] - 59s 2ms/sample - loss: 0.0067 - accuracy: 0.9995 - val_loss: 5.5429 - val_accuracy: 0.8049\n",
      "Epoch 42/50\n",
      "25000/25000 [==============================] - 57s 2ms/sample - loss: 0.0019 - accuracy: 0.9999 - val_loss: 5.6879 - val_accuracy: 0.8048\n",
      "Epoch 43/50\n",
      "25000/25000 [==============================] - 57s 2ms/sample - loss: 0.0030 - accuracy: 0.9998 - val_loss: 5.5257 - val_accuracy: 0.8044\n",
      "Epoch 44/50\n",
      "25000/25000 [==============================] - 57s 2ms/sample - loss: 0.0042 - accuracy: 0.9995 - val_loss: 5.4628 - val_accuracy: 0.8013\n",
      "Epoch 45/50\n",
      "25000/25000 [==============================] - 58s 2ms/sample - loss: 0.0017 - accuracy: 0.9999 - val_loss: 5.9214 - val_accuracy: 0.8029\n",
      "Epoch 46/50\n",
      "25000/25000 [==============================] - 59s 2ms/sample - loss: 0.0011 - accuracy: 0.9998 - val_loss: 7.0146 - val_accuracy: 0.7888\n",
      "Epoch 47/50\n",
      "25000/25000 [==============================] - 58s 2ms/sample - loss: 0.0038 - accuracy: 0.9997 - val_loss: 6.0276 - val_accuracy: 0.8010\n",
      "Epoch 48/50\n",
      "25000/25000 [==============================] - 58s 2ms/sample - loss: 0.0048 - accuracy: 0.9994 - val_loss: 5.1363 - val_accuracy: 0.7968\n",
      "Epoch 49/50\n",
      "25000/25000 [==============================] - 57s 2ms/sample - loss: 0.0017 - accuracy: 0.9998 - val_loss: 6.2555 - val_accuracy: 0.8016\n",
      "Epoch 50/50\n",
      "25000/25000 [==============================] - 57s 2ms/sample - loss: 0.0028 - accuracy: 0.9998 - val_loss: 5.5468 - val_accuracy: 0.8035\n"
     ]
    }
   ],
   "source": [
    "#train the model\n",
    "model = get_model()\n",
    "trained_model = model.fit(x=train_padded_sequences,\n",
    "          y=y_train,\n",
    "          batch_size=32,\n",
    "          epochs=50,\n",
    "          validation_data=(test_padded_sequences, y_test),\n",
    "          use_multiprocessing=True,\n",
    "        )"
   ]
  },
  {
   "cell_type": "code",
   "execution_count": 43,
   "metadata": {},
   "outputs": [],
   "source": [
    "#let's plot out the loss and accuracy "
   ]
  },
  {
   "cell_type": "code",
   "execution_count": 60,
   "metadata": {},
   "outputs": [
    {
     "data": {
      "text/plain": [
       "<matplotlib.legend.Legend at 0x19e8c49ac48>"
      ]
     },
     "execution_count": 60,
     "metadata": {},
     "output_type": "execute_result"
    },
    {
     "data": {
      "image/png": "[encoded data removed]",
      "text/plain": [
       "<Figure size 432x288 with 1 Axes>"
      ]
     },
     "metadata": {
      "needs_background": "light"
     },
     "output_type": "display_data"
    }
   ],
   "source": [
    "# let's plot training loss and vaidation loss\n",
    "fig = plt.figure()\n",
    "ax = fig.add_subplot(1, 1, 1)\n",
    "x = range(50)\n",
    "ax.plot(x, trained_model.history.get('loss'), color='tab:blue')\n",
    "ax.plot(x, trained_model.history.get('val_loss'), color='tab:red')\n",
    "plt.xlabel('epochs')\n",
    "plt.ylabel('loss')\n",
    "plt.legend(['train_loss', 'validation_loss'])"
   ]
  },
  {
   "cell_type": "code",
   "execution_count": null,
   "metadata": {},
   "outputs": [],
   "source": [
    "# As we see from above plot, after few epohcs, even though the training loss continues to decrease and then flattens,\n",
    "# but the validation loss continues to increase"
   ]
  },
  {
   "cell_type": "code",
   "execution_count": 63,
   "metadata": {},
   "outputs": [
    {
     "data": {
      "text/plain": [
       "<matplotlib.legend.Legend at 0x19e8c6e0108>"
      ]
     },
     "execution_count": 63,
     "metadata": {},
     "output_type": "execute_result"
    },
    {
     "data": {
      "image/png": "[encoded data removed]",
      "text/plain": [
       "<Figure size 432x288 with 1 Axes>"
      ]
     },
     "metadata": {
      "needs_background": "light"
     },
     "output_type": "display_data"
    }
   ],
   "source": [
    "# let's plot training accuracy and vaidation accuracy\n",
    "fig = plt.figure()\n",
    "ax = fig.add_subplot(1, 1, 1)\n",
    "x = range(50)\n",
    "ax.plot(x, trained_model.history.get('accuracy'), color='tab:blue')\n",
    "ax.plot(x, trained_model.history.get('val_accuracy'), color='tab:red')\n",
    "plt.xlabel('epochs')\n",
    "plt.ylabel('accuracy')\n",
    "plt.legend(['train_accuracy', 'validation_accuracy'])"
   ]
  },
  {
   "cell_type": "code",
   "execution_count": 65,
   "metadata": {},
   "outputs": [],
   "source": [
    "# As we see from above plot, after few epohcs, even though the training accruracy continues to increase and then flattens,\n",
    "# but the validation accuracy continues to decrease and then flattens out.\n",
    "# this shows a classic case of overfitting \n",
    "# Note:  I have used 50 epochs just train in faster. May be we can try with a higher epoch to see if we get any improvenment in validation accuracy"
   ]
  },
  {
   "cell_type": "code",
   "execution_count": null,
   "metadata": {},
   "outputs": [],
   "source": []
  }
 ],
 "metadata": {
  "kernelspec": {
   "display_name": "Python 3",
   "language": "python",
   "name": "python3"
  },
  "language_info": {
   "codemirror_mode": {
    "name": "ipython",
    "version": 3
   },
   "file_extension": ".py",
   "mimetype": "text/x-python",
   "name": "python",
   "nbconvert_exporter": "python",
   "pygments_lexer": "ipython3",
   "version": "3.7.9"
  }
 },
 "nbformat": 4,
 "nbformat_minor": 4
}
